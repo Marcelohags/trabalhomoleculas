{
  "nbformat": 4,
  "nbformat_minor": 0,
  "metadata": {
    "colab": {
      "provenance": []
    },
    "kernelspec": {
      "name": "python3",
      "display_name": "Python 3"
    },
    "language_info": {
      "name": "python"
    }
  },
  "cells": [
    {
      "cell_type": "code",
      "execution_count": 1,
      "metadata": {
        "id": "romQKZ-dEdZB"
      },
      "outputs": [],
      "source": [
        "#Importando pandas\n",
        "import pandas as pd "
      ]
    },
    {
      "cell_type": "code",
      "source": [
        "#Instalando rdkit\n",
        "!pip install rdkit"
      ],
      "metadata": {
        "colab": {
          "base_uri": "https://localhost:8080/"
        },
        "id": "HhG6Vip-FNo4",
        "outputId": "f762c902-5f00-4410-ff49-ad8d2c84e63b"
      },
      "execution_count": 11,
      "outputs": [
        {
          "output_type": "stream",
          "name": "stdout",
          "text": [
            "Looking in indexes: https://pypi.org/simple, https://us-python.pkg.dev/colab-wheels/public/simple/\n",
            "Collecting rdkit\n",
            "  Downloading rdkit-2022.9.2-cp37-cp37m-manylinux_2_17_x86_64.manylinux2014_x86_64.whl (29.1 MB)\n",
            "\u001b[K     |████████████████████████████████| 29.1 MB 1.2 MB/s \n",
            "\u001b[?25hRequirement already satisfied: numpy in /usr/local/lib/python3.7/dist-packages (from rdkit) (1.21.6)\n",
            "Requirement already satisfied: Pillow in /usr/local/lib/python3.7/dist-packages (from rdkit) (7.1.2)\n",
            "Installing collected packages: rdkit\n",
            "Successfully installed rdkit-2022.9.2\n"
          ]
        }
      ]
    },
    {
      "cell_type": "code",
      "source": [
        "#Importando a biblioteca rdkit e os módulos que vão ser usados no trabalho\n",
        "import rdkit\n",
        "from rdkit import Chem\n",
        "from rdkit.Chem import Descriptors, PandasTools, Lipinski, Crippen\n",
        "from rdkit import DataStructs\n"
      ],
      "metadata": {
        "id": "Tfyby8E2FOwn"
      },
      "execution_count": 12,
      "outputs": []
    },
    {
      "cell_type": "code",
      "source": [
        "#Fazendo upload da base de dados e colocando ela na variável \"mols\"\n",
        "mols = Chem.SDMolSupplier(\"./nmrshiftdb2.nmredata.sd\")\n",
        "\n",
        "#Verificando o tamanho da base de dados para ver se está tudo certo\n",
        "nmols = len(mols)\n",
        "i = mols[0]\n",
        "\n",
        "#Verificando os nomes das colunas para ver se já existia algum módulo pronto no arquivo\n",
        "teste = i.GetPropNames()\n",
        "\n",
        "for j in teste:\n",
        "  print(j)\n",
        "print(mols[0])\n",
        "print(teste)\n",
        "\n",
        "#Verificando os valores presentes na base de dados\n",
        "print(i.GetRingInfo().NumRings()) #Ringcount\n",
        "print(Descriptors.ExactMolWt(i)) #ExactMolWt\n",
        "print(rdkit.Chem.Lipinski.NumRotatableBonds(i)) #NumRotatableBonds\n",
        "print(i.GetProp(\"NMREDATA_SMILES\")) #Smiles\n",
        "print(Descriptors.rdMolDescriptors.CalcTPSA(i)) #TPSA\n",
        "print(rdkit.Chem.Crippen.MolLogP(i)) #MolLogP\n",
        "print(rdkit.Chem.Lipinski.NumHAcceptors(i)) #NumHAcceptors\n",
        "print(rdkit.Chem.Lipinski.NumHDonors(i)) #NumHDonors\n",
        "print(i.GetProp(\"NMREDATA_VERSION\")) #Version\n",
        "\n",
        "#obs: Molecular_formula e identificador(ID) não estavam presentes"
      ],
      "metadata": {
        "colab": {
          "base_uri": "https://localhost:8080/"
        },
        "id": "a0e5AWGBFQQf",
        "outputId": "bdc183d7-f8d0-42d4-8273-d69a04270f3c"
      },
      "execution_count": 14,
      "outputs": [
        {
          "output_type": "stream",
          "name": "stdout",
          "text": [
            "NMREDATA_VERSION\n",
            "NMREDATA_SOLVENT\n",
            "NMREDATA_ASSIGNMENT\n",
            "NMREDATA_INCHI\n",
            "NMREDATA_LEVEL\n",
            "NMREDATA_ID\n",
            "NMREDATA_TEMPERATURE\n",
            "NMREDATA_1D_13C\n",
            "NMREDATA_SMILES\n",
            "<rdkit.Chem.rdchem.Mol object at 0x7f25c1c3fe10>\n",
            "<rdkit.rdBase._vectSs object at 0x7f25c1c472d0>\n",
            "2\n",
            "250.156894564\n",
            "2\n",
            "C1(C(C(C2(C(C1([H])[H])(C(C(=C(C2([H])[H])[H])C(=O)[H])(C(=O)[H])O[H])C([H])([H])[H])[H])(C([H])([H])[H])C([H])([H])[H])([H])[H])([H])[H]\n",
            "54.37\n",
            "2.2780000000000005\n",
            "3\n",
            "1\n",
            "1.1\\\n"
          ]
        }
      ]
    },
    {
      "cell_type": "code",
      "source": [
        "#Importando o \"csv\"\n",
        "import csv\n",
        "\n",
        "#Definindo as colunas para o arquivo \"csv\"\n",
        "mol_data = ['SMILES', 'ExactMolWt', 'MolLogP', 'NumHAcceptors', 'NumHDonors', 'NumRotatableBonds', 'RingCount', 'TPSA']\n",
        "\n",
        "#Armazenando os valores \n",
        "mol_info = []\n",
        "\n",
        "#Contador de erro verifica os valores nulos presentes\n",
        "contador_de_erro = 0\n",
        "count = 1\n",
        "for i in mols:\n",
        "  try:\n",
        "    mol_info.append([i.GetProp(\"NMREDATA_SMILES\"), Descriptors.ExactMolWt(i), rdkit.Chem.Crippen.MolLogP(i), rdkit.Chem.Lipinski.NumHAcceptors(i), rdkit.Chem.Lipinski.NumHDonors(i), rdkit.Chem.Lipinski.NumRotatableBonds(i), i.GetRingInfo().NumRings(), Descriptors.rdMolDescriptors.CalcTPSA(i)])\n",
        "  except:\n",
        "    contador_de_erro = contador_de_erro +1\n",
        "#Colocando o conteúdo no arquivo \"csv\" por meio de um Loop  \n",
        "print(mol_info[:100])\n",
        "\n",
        "\n",
        "\n",
        "\n",
        "\n",
        "\n",
        "\n",
        "\n",
        "\n",
        "\n",
        "\n",
        "\n",
        "\n"
      ],
      "metadata": {
        "colab": {
          "base_uri": "https://localhost:8080/"
        },
        "id": "mHIvzpKCU8a1",
        "outputId": "e9421282-3fbe-4980-be45-6bf99a7c1775"
      },
      "execution_count": 16,
      "outputs": [
        {
          "output_type": "stream",
          "name": "stdout",
          "text": [
            "[['C1(C(C(C2(C(C1([H])[H])(C(C(=C(C2([H])[H])[H])C(=O)[H])(C(=O)[H])O[H])C([H])([H])[H])[H])(C([H])([H])[H])C([H])([H])[H])([H])[H])([H])[H]', 250.156894564, 2.2780000000000005, 3, 1, 2, 2, 54.37], ['C1(C(C2(C3(C1(C(=C(C3(C([H])([H])[H])[H])C(O[H])([H])[H])[H])C([H])([H])[H])C(C(C2(C([H])([H])[H])[H])([H])[H])([H])[H])[H])([H])[H])([H])[H]', 220.182715388, 3.3874000000000026, 1, 1, 1, 3, 20.23], ['[N+]1(=C(C(N(C1(C([H])([H])[H])C([H])([H])[H])C([H])([H])[H])(C([H])([H])[H])C([H])([H])[H])[H])[O-]', 156.126263132, 1.0275999999999998, 2, 0, 0, 1, 29.31], ['C(=C(C1(C([H])([H])[H])C(C(=C([H])[H])C([H])([H])[H])(C(C(C(C([H])([H])[H])(C([H])([H])[H])[H])(OC(=O)C([H])([H])[H])C(C1([H])[H])(O[H])[H])([H])[H])[H])[H])([H])[H]', 280.203844756, 3.4836000000000027, 3, 1, 4, 1, 46.53], ['C(C(O[H])(C(C([H])([H])[H])(C([H])([H])[H])[H])[H])(N(C1(C(C(C2=C(C=3C(C4(C(C(C3[H])([H])[H])(C(C(C4([H])[H])([H])[H])(C(N(C([H])([H])[H])C([H])([H])[H])(C([H])([H])[H])[H])[H])C([H])([H])[H])C([H])([H])[H])(C(C(C2(C1(C([H])([H])[H])C(O[H])([H])[H])[H])([H])[H])([H])[H])[H])[H])([H])[H])([H])[H])[H])C([H])([H])[H])=O', 514.413443588, 5.2781000000000065, 4, 2, 6, 4, 64.01], ['C=1(C(=C(C(=C(C1O[H])C([H])([H])[H])O[H])C(=O)OC2=C(C(=C(C(=C2C([H])([H])[H])O[H])C(=O)O[H])C(C([H])([H])[H])=C(C([H])([H])[H])[H])[H])C(C([H])([H])[H])=C(C([H])([H])[H])[H])[H]', 426.1678531719999, 5.184040000000005, 6, 4, 5, 2, 124.29], ['C1(C(C(=C(C(C(C2(C(C3(C1(O3)C([H])([H])[H])[H])(OC(C2=C([H])[H])=O)[H])[H])([H])[H])(OC(=O)C(C(C([H])([H])[H])(O[H])C(C([H])([H])[H])([H])[H])([H])[H])[H])C([H])([H])[H])[H])([H])[H])([H])[H]', 378.20423868, 2.8348000000000013, 6, 1, 4, 3, 85.36], ['C(C(C(C(S(C(C(C(=O)O[H])(N([H])[H])[H])([H])[H])=O)([H])[H])([H])[H])([H])[H])([H])([H])[H]', 193.07726434, -0.052899999999999614, 3, 2, 6, 0, 80.38999999999999], ['C=1(C(=C(C(=C(C1OC([H])([H])[H])[H])O[H])C(C2=C(C(=C(C(=C2[H])O[H])[H])O[H])[H])=O)OC3(OC(C(C3(O[H])[H])(O[H])[H])(C(O[H])([H])[H])[H])[H])[H]', 408.1056468399999, -0.13920000000000032, 10, 6, 6, 3, 166.14000000000001], ['C=12C(=C(C3=C4C1C(=C(C(=C4C(=C(C3=O)[H])[H])[H])[H])C=5C(=C(C(=C(C5[H])[H])[H])[H])O2)[H])OC([H])([H])[H]', 300.078644244, 4.6990000000000025, 3, 0, 1, 5, 39.44], ['C=1(C(=O)C(C2(C(C3(C1C(C(C3(C([H])([H])[H])[H])([H])[H])([H])[H])[H])(C2(C([H])([H])[H])C([H])([H])[H])[H])[H])([H])[H])C([H])([H])[H]', 218.167065324, 3.594000000000003, 1, 0, 0, 3, 17.07], ['C1(C2(OC=3C(=C(C=4C=5C(=C(C(=C(C5N(C4C3C(=C2[H])[H])[H])[H])[H])[H])[H])[H])[H])C6=C(C(=C(C(=C6[H])[H])[H])[H])[H])=C(C(=C(C(=C1[H])[H])[H])[H])[H]', 373.146664228, 6.670500000000005, 1, 1, 2, 6, 25.02], ['O(C(C(OC([H])([H])[H])([H])[H])([H])[H])C(OC(C1(N(C(C(OC(C(OC(C(N(C(C(OC(C(OC1([H])[H])([H])[H])([H])[H])([H])[H])([H])[H])C(C2=C(C(=C(C(=C2[H])[H])[H])[H])[H])([H])[H])(C(OC(OC(C(OC([H])([H])[H])([H])[H])([H])[H])([H])[H])([H])[H])[H])([H])[H])([H])[H])([H])[H])([H])[H])([H])[H])C(C3=C(C(=C(C(=C3[H])[H])[H])[H])[H])([H])[H])[H])([H])[H])([H])[H]', 678.409146056, 3.0822000000000047, 12, 0, 18, 3, 98.78000000000002], ['C1(=C(C(=C(C(=C1[H])[H])C([H])([H])[H])[H])[H])C2(C(C(C(C2(C3=C(C(=C(C(=C3[H])[H])C([H])([H])[H])[H])[H])[H])(C(=O)C(=C(C4=C(C(=C(C(=C4[H])[H])C([H])([H])[H])[H])[H])[H])[H])[H])(O[H])C(=C(C5=C(C(=C(C(=C5[H])[H])C([H])([H])[H])[H])[H])[H])[H])([H])[H])[H]', 526.287180456, 8.534580000000007, 2, 1, 7, 5, 37.3], ['N1(C(N(C(C(C(=O)O[H])([H])[H])([H])[H])C(SC1=S)([H])[H])([H])[H])C(C(C(C(C(C(O[H])=O)([H])[H])([H])[H])([H])[H])([H])[H])([H])[H]', 320.08644911999994, 1.6568, 5, 2, 9, 1, 81.08], ['N1(C(N(C(SC1=S)([H])[H])C(C(O[H])=O)([H])[H])([H])[H])C(C=2OC(=C(C2[H])[H])[H])([H])[H]', 272.02893424399997, 1.4149, 5, 1, 4, 2, 56.92], ['N1(C(N(C(SC1=S)([H])[H])C(C(O[H])=O)([H])[H])([H])[H])C(C=2OC(=C(C2[H])[H])[H])([H])[H]', 272.02893424399997, 1.4149, 5, 1, 4, 2, 56.92], ['C12=C(C3=C(N1[H])C(=C(C(=C3[H])[H])[H])[H])C(N4C(C(C(F)(F)C([H])([H])[H])(C(C(C(C2(C5=C(C=6C78C(N(C6C(=C5OC([H])([H])[H])[H])C([H])([H])[H])(C(C(C9(C(C([H])([H])[H])([H])[H])C7(N(C(C(=C9[H])[H])([H])[H])C(C8([H])[H])([H])[H])[H])(OC(=O)C([H])([H])[H])[H])(O[H])C(OC([H])([H])[H])=O)[H])[H])C(OC([H])([H])[H])=O)([H])[H])(C4([H])[H])[H])([H])[H])[H])([H])[H])([H])[H]', 816.390971128, 5.078700000000004, 11, 2, 7, 9, 133.87], ['C1(C(=C(N(C(=C1C(=O)OC([H])([H])[H])C([H])([H])[H])[H])Cl)C(=O)[H])(C=2C(=C(C(=C(C2[H])[H])C(=O)O[H])[H])[H])[H]', 335.05605022799995, 2.1679000000000004, 5, 2, 4, 2, 92.70000000000002], ['C1(O[H])(C(C(O[H])([H])[H])(OC(C(C1(O[H])[H])(N(C(=O)C([H])([H])[H])[H])[H])(N(C(=O)C(N([H])[H])([H])[H])[H])[H])[H])[H]', 277.127385328, -3.9949999999999957, 7, 6, 4, 1, 154.14], ['C1(=C(C(=C(C(OC([H])([H])[H])=O)C(=C1[H])[H])[H])[H])C2(C=3C(C(C(C(C3N(C(=C2C#N)N([H])[H])[H])([H])[H])(C([H])([H])[H])C([H])([H])[H])([H])[H])=O)[H]', 351.1582915320001, 2.4970800000000004, 6, 2, 2, 3, 105.21000000000001], ['C1(=C(C(=C(C(OC([H])([H])[H])=O)C(=C1[H])[H])[H])[H])C2(C=3C(C(C(C(C3N(C(=C2C#N)N([H])[H])[H])([H])[H])(C([H])([H])[H])C([H])([H])[H])([H])[H])=O)[H]', 351.1582915320001, 2.4970800000000004, 6, 2, 2, 3, 105.21000000000001], ['C1(C2(OC(N(C3=C(C(=C(C(=C3O[H])[H])[H])[H])[H])C2(OC(C1(O[H])[H])(C(O[H])([H])[H])[H])[H])=O)[H])(O[H])[H]', 297.08485182, -0.8436000000000006, 7, 4, 2, 3, 119.69000000000001], ['C1(C(C(C23C(C1([H])[H])(OC(C2(C([H])([H])[H])C([H])([H])[H])(C(=C(C3(C([H])([H])[H])O[H])[H])[H])Br)[H])([H])[H])(Br)[H])(Cl)C([H])([H])[H]', 425.9596817920001, 4.364600000000004, 2, 1, 0, 3, 29.46], ['C1(=C(OC(=C1[H])[H])[H])C2(OC(C3(C2([H])[H])C4(C(C(C(C56C4(C(C(C3(C([H])([H])[H])[H])([H])[H])(O5)[H])C(OC6=O)([H])[H])([H])[H])(O[H])[H])([H])[H])[H])=O)[H]', 374.136553044, 1.7454999999999998, 7, 1, 1, 6, 95.19999999999999], ['C1(C2(C(=C(C(C(C2=O)(C(C([H])([H])[H])(C([H])([H])[H])C1(C(C(=C(C([H])([H])[H])C([H])([H])[H])[H])([H])[H])[H])C(C(=C(C([H])([H])[H])C([H])([H])[H])[H])([H])[H])=O)C(C=3C(=C(C(=C(C3[H])[H])[H])[H])[H])=O)O[H])C(C(=C(C([H])([H])[H])C([H])([H])[H])[H])([H])[H])([H])[H]', 502.308309824, 7.921000000000008, 4, 1, 8, 3, 71.44], ['S(C1=C(C(C(N([H])[H])(C(=O)O[H])[H])([H])[H])N(C([H])([H])[H])C(=N1)[H])SC=2N=C(N(C2C(C(N([H])[H])(C(O[H])=O)[H])([H])[H])C([H])([H])[H])[H]', 400.09874511999993, -0.13819999999999988, 10, 4, 9, 2, 162.28], ['C=1(C(=C(C2=C(C1[H])C34C5(C6(C(C(C(C(N6C(C3([H])[H])(O5)[H])([H])[H])=C(C([H])([H])[H])[H])([H])C4(C(=O)OC([H])([H])[H])[H])([H])[H])[H])N2[H])[H])[H])[H]', 338.1630425639999, 2.2458, 5, 1, 1, 6, 50.8], ['C=1(C(=C(C2=C(C1[H])C34C(C5([H])N6C([H])(C(=C(C([H])([H])[H])[H])C([H])(C3(C(=O)OC([H])([H])[H])[H])C5([H])[H])C4(C(O6)([H])O[H])[H])=N2)[H])[H])[H]', 352.14230711999994, 1.7120999999999997, 6, 1, 1, 7, 71.36000000000001], ['C1(=C(C(=C(C(=C1[H])OC([H])([H])[H])OC([H])([H])[H])OC([H])([H])[H])[H])OC2(OC(C(C(C2(O[H])[H])(O[H])[H])(O[H])[H])(C(O[H])([H])[H])[H])[H]', 346.12638228400004, -1.108900000000001, 9, 4, 6, 2, 127.07000000000002], ['C=1(C(=NC=2N(C1[H])N=C(N2)[H])[H])[H]', 120.04359612799999, 0.12429999999999986, 4, 0, 0, 2, 43.08], ['C=1(C(=NC=2N(C1[H])N=C(N2)[H])[H])[H]', 120.04359612799999, 0.12429999999999986, 4, 0, 0, 2, 43.08], ['C12(C(=C(C(C3(C1(C([H])([H])[H])C(C(C(C32[H])(C(C([H])([H])[H])(C([H])([H])[H])[H])[H])([H])[H])([H])[H])[H])([H])[H])[H])C([H])([H])[H])[H]', 204.187800768, 4.270900000000004, 0, 0, 1, 3, 0.0], ['C1(C(C(=C(C(C2=C(C(C(=C1[H])C([H])([H])[H])([H])[H])OC(=C2C([H])([H])[H])[H])([H])[H])[H])C([H])([H])[H])([H])[H])([H])[H]', 216.15141526, 4.359420000000004, 1, 0, 0, 2, 13.14], ['N1(C=2C([Se]C1=NC(C34C(C(C(C(O3)=O)(C4(C([H])([H])[H])C([H])([H])[H])C([H])([H])[H])([H])[H])([H])[H])=O)=C5C(=C(C2[H])[H])C(=C(C(=C5[H])[H])[H])[H])[H]', 428.0639137999999, 2.9273000000000007, 3, 1, 1, 5, 71.52000000000001], ['C12(C3=C(C(=C(C1=O)C([H])([H])[H])C([H])([H])[H])OC(C(C3([H])[H])([H])[H])(C([H])([H])[H])C(C(C(C(C(C(C(C(C(C(C(C(C([H])([H])[H])(C([H])([H])[H])[H])([H])[H])([H])[H])([H])[H])(C([H])([H])[H])[H])([H])[H])([H])[H])([H])[H])(C([H])([H])[H])[H])([H])[H])([H])[H])([H])[H])OC=4C(=C(C=5OC(C(C(C5C4C2([H])[H])([H])[H])([H])[H])(C(C(C(C(C(C(C(C(C(C(C(C(C([H])([H])[H])(C([H])([H])[H])[H])([H])[H])([H])[H])([H])[H])(C([H])([H])[H])[H])([H])[H])([H])[H])([H])[H])(C([H])([H])[H])[H])([H])[H])([H])[H])([H])[H])C([H])([H])[H])C([H])([H])[H])C([H])([H])[H]', 842.7152114879999, 16.681339999999963, 4, 0, 24, 5, 44.760000000000005], ['O1C2=C(C(=C(C1(C([H])([H])[H])C([H])([H])[H])[H])[H])C(=C3C(=C2[H])C(OC3=O)([H])[H])O[H]', 232.073558864, 2.2468000000000004, 4, 1, 0, 3, 55.76], ['C1(C(C(C(C2(C1(C(C(C3(C2(C(C(C4(C3(C(C(C(C4([H])[H])([H])[H])(C([H])([H])[H])C([H])([H])[H])([H])[H])[H])C(O[H])([H])[H])([H])[H])([H])[H])C([H])([H])[H])C([H])([H])[H])([H])[H])([H])[H])C([H])([H])[H])[H])([H])[H])([H])[H])(C(C([H])([H])[H])([H])[H])C([H])([H])[H])(C(C(C(=O)O[H])([H])[H])([H])[H])[H]', 460.3916455239999, 7.705200000000009, 2, 2, 5, 4, 57.53], ['C1(=C(C(=C(C(=N1)[H])[H])[H])[H])C2=C(C(=C(N2C(=C([H])[H])[H])[H])[H])[H]', 170.08439832, 2.6506000000000007, 2, 0, 2, 2, 17.82], ['C1(C2=C(C(=C(N2C(=C([H])[H])[H])[H])[H])[H])=C(C(=C(N1C(=C([H])[H])[H])[H])[H])[H]', 184.100048384, 3.1576000000000013, 2, 0, 3, 2, 9.86], ['C1(C(C(C2=C(C1([H])[H])C(=C3C(=N2)C(C(C(C3([H])[H])([H])[H])([H])[H])([H])[H])[H])([H])[H])([H])[H])([H])[H]', 187.136099544, 2.839200000000001, 1, 0, 0, 3, 12.89], ['C1(C(C(C2=C(C1([H])[H])C(=C3C(=N2)C(C(C(C3([H])[H])([H])[H])([H])[H])([H])[H])[H])([H])[H])([H])[H])([H])[H]', 187.136099544, 2.839200000000001, 1, 0, 0, 3, 12.89], ['C1(C(C(C2=C(C1([H])[H])C(=C3C(=N2)C(C(C(C3([H])[H])([H])[H])([H])[H])([H])[H])[H])([H])[H])([H])[H])([H])[H]', 187.136099544, 2.839200000000001, 1, 0, 0, 3, 12.89], ['C1(=C(C(=C(C(=C1[H])[H])C(=NO[H])N([H])[H])[H])[H])N([H])[H]', 151.074561908, 0.36330000000000023, 3, 3, 1, 1, 84.63], ['C1(=C(C(=C(C(=C1[H])[H])C(=NO[H])N([H])[H])[H])[H])N([H])[H]', 151.074561908, 0.36330000000000023, 3, 3, 1, 1, 84.63], ['C=1(C2=C(C(=C(C1[H])[H])[H])N3C4=C2C5=C(C6=C4N(C7=C6C(=C(C(=C7[H])[H])[H])[H])C8(OC3([H])C(C(C8(OC([H])([H])[H])[H])(N(C([H])([H])[H])[H])[H])([H])[H])C([H])([H])[H])C(N(C5=O)[H])([H])[H])[H]', 466.20049069199996, 4.3540000000000045, 6, 2, 2, 8, 69.45], ['C1(C(C(C2(C(C1([H])[H])(C3(C(C(C2([H])[H])([H])[H])(C4(C(=C(C3([H])[H])[H])C5(C(C(C4([H])[H])([H])[H])(C(C(C(C5([H])[H])(C([H])([H])[H])C(=O)O[H])([H])[H])([H])[H])C([H])([H])[H])[H])C([H])([H])[H])C([H])([H])[H])[H])C([H])([H])[H])[H])(C([H])([H])[H])C([H])([H])[H])(O[H])[H])([H])[H]', 456.3603453959999, 7.233600000000009, 2, 2, 1, 5, 57.53], ['O1C(C(C(C1(C(=O)O[H])[H])([H])[H])([H])[H])=O', 130.026608672, -0.2234000000000001, 3, 1, 1, 1, 63.60000000000001], ['O1C(C(C(C1(C(=O)O[H])[H])([H])[H])([H])[H])=O', 130.026608672, -0.2234000000000001, 3, 1, 1, 1, 63.60000000000001], ['C=1(C2=C(C(=C3C4=C2C(C5(OC=6C(=C(C7=C(C(=C(C=8C(=C(C(=C(C8[H])[H])O[H])[H])[H])C=9C(=O)C%10(O[H])OC(C(=C3[H])[H])=C4C5(C%10(C6C79)[H])[H])[H])[H])[H])[H])O[H])=O)[H])[H])C(=C(C(=C(C1[H])[H])O[H])[H])[H]', 606.1314676640001, 6.160200000000007, 8, 4, 2, 10, 133.52], ['C1(=C(C(C=2C(=C(C(=C(C2[H])[H])[H])[H])[H])=C3C(=O)C4(OC=5C(=C(C6=C7C5C8(C4(C=9C3=C1C(=C(C9OC8(C(=O)C7=C(C=%10C(=C(C(=C(C%10[H])[H])[H])[H])[H])C(=C6[H])[H])O[H])[H])[H])[H])[H])[H])[H])O[H])[H])[H]', 574.141638424, 6.749000000000005, 6, 2, 2, 10, 93.06], ['C1(=C(C(=C(C(=C1[H])[H])[H])[H])[H])C2=C(C(=C3C(OC(=C4C3=C2C(C(=C4[H])O[H])=O)[H])=O)[H])[H]', 290.05790879999995, 3.555200000000002, 4, 1, 1, 4, 67.51], ['C1(=C(C(=C(C(=C1[H])[H])[H])[H])[H])C2=C(C(=C3C(OC(=C4C3=C2C(C(=C4[H])O[H])=O)[H])=O)[H])[H]', 290.05790879999995, 3.555200000000002, 4, 1, 1, 4, 67.51], ['C1(=C(C(=C(C(=C1[H])[H])[H])[H])[H])C2=C(C(=C3C(OC(C=4C3=C2C(=C(O[H])C4[H])OC5(OC(C(C(C5(O[H])[H])(O[H])[H])(O[H])[H])(C(O[H])([H])[H])[H])[H])(C(=O)O[H])[H])=O)[H])[H]', 498.11621152399977, 0.6872, 10, 6, 5, 5, 183.20999999999998], ['C=1(C(=C(C2=C3C1C(C(=C(C3=C(C(=C2[H])[H])[H])[H])O[H])=O)[H])[H])C=4C(=C(C(=C(C4[H])[H])[H])[H])[H]', 272.083729624, 4.602000000000003, 2, 1, 1, 4, 37.3], ['C=1(C(=C(C(=C(C1[H])[H])O[H])[H])[H])C(=C(C2=C(C(=C3C(=C(OC3=C2[H])C=4C(=C(C(=C(C4[H])[H])O[H])[H])[H])C5=C(C(=C(C(=C5[H])O[H])[H])O[H])[H])O[H])[H])[H])[H]', 452.1259883599999, 6.465200000000008, 6, 5, 4, 5, 114.29000000000002], ['C1(C(C(C(C(O1)(C([H])([H])[H])[H])(O[H])[H])(O[H])[H])(O[H])[H])(OC2=C(C(=C3C(=C(C(OC3=C2C4=C(C5=C(C(=C4O[H])[H])OC(C(=C5[H])[H])=O)[H])=O)[H])[H])[H])[H])[H]', 468.1056468399998, 1.4783000000000002, 10, 4, 3, 5, 159.79999999999998], ['C1(C2(C(=C(C(C1(C2(C([H])([H])[H])C([H])([H])[H])[H])([H])[H])[H])C(O[H])([H])[H])[H])([H])[H]', 152.120115132, 1.9711000000000003, 1, 1, 1, 3, 20.23], ['C12(C3(C(N(S(C(C1([H])[H])(C(=O)OC(C([H])([H])[H])(C([H])([H])[H])[H])[H])(=O)=O)C(C3(C([H])([H])[H])N(O2)C([H])([H])[H])([H])[H])([H])[H])[H])[H]', 318.124942804, -0.023799999999998933, 6, 0, 2, 3, 76.15], ['C1(=C(C(N(S(C(C1([H])[H])(C(=O)OC(C([H])([H])[H])(C([H])([H])[H])[H])[H])(=O)=O)C(C(=O)C([H])([H])[H])([H])[H])([H])[H])[H])[H]', 289.098393708, 0.48730000000000007, 5, 0, 4, 1, 80.75], ['C1(=C(C(=C(C(=C1[H])[H])[H])[H])[H])C([N+](C=2C(=C(C(=C(C2[H])[H])[H])[H])[H])([H])[H])(P(=O)(OC(C([H])([H])[H])([H])[H])[O-])[H]', 291.10243006599995, 2.1701999999999995, 3, 1, 6, 2, 65.97], ['C1(=C(C(=NC(=C1[H])[H])[H])[H])C2=C3C(=[N+](C=4C(C(C(C(C42)([H])[H])([H])[H])([H])[H])([H])[H])[O-])C(C(C(C3([H])[H])([H])[H])([H])[H])([H])[H]', 280.15756325999996, 3.1396000000000015, 2, 0, 1, 4, 39.83], ['C1(=C(C2=C3C(=C1[H])C(C(N(C3(C(C4=C2C(=C(C(=C4[H])O[H])OC([H])([H])[H])[H])([H])[H])[H])[H])([H])[H])([H])[H])OC([H])([H])[H])O[H]', 313.131408088, 2.5249000000000006, 5, 3, 2, 4, 70.95], ['C1(C2=C(C(O1)=O)C(=C(C(=C2[H])[H])OC([H])([H])[H])OC([H])([H])[H])=C(C3=C(C(=C4C(=C3[H])OC(O4)([H])[H])[H])C(C(N(OC5(C6(C(C7=C5C(=C8C(=C7[H])OC(O8)([H])[H])[H])(C9(OC(C%10=C9C(=C(C(=C%10OC([H])([H])[H])OC([H])([H])[H])[H])[H])=O)ON6C([H])([H])[H])[H])[H])[H])C([H])([H])[H])([H])[H])([H])[H])[H]', 794.2323038960001, 5.360300000000005, 16, 0, 10, 10, 151.38], ['C1(OC2(C(C(C3(C(C2(C(=O)[H])C([H])([H])[H])(C(C(C4(C3(C(C(=C5C4(C(C(C6(C5(C(C(C(C6([H])[H])([H])[H])(C([H])([H])[H])C([H])([H])[H])([H])[H])[H])C(=O)O[H])([H])[H])([H])[H])C([H])([H])[H])[H])([H])[H])[H])C([H])([H])[H])([H])[H])([H])[H])[H])C([H])([H])[H])([H])[H])([H])[H])[H])(OC(C(C(C1(O[H])[H])(O[H])[H])(O[H])[H])(C(=O)O[H])[H])[H]', 646.371697928, 4.329100000000003, 8, 5, 5, 6, 170.82], ['C(C(C(C(C(=O)O[H])([H])[H])([H])[H])(O[H])[H])(=O)O[H]', 148.037173356, -0.7032999999999998, 3, 3, 4, 0, 94.83], ['C1(=C(C(C2=C1C(=C(C(=C2[H])C3(C(C(C4=C3C(=C(C(=C4[H])[H])[H])[H])([H])[H])([H])[H])[H])[H])[H])([H])[H])[H])[H]', 232.125200512, 4.334000000000003, 0, 0, 1, 4, 0.0], ['C1(=C(C(C2=C1C(=C(C(=C2[H])C3(C(C(C4=C3C(=C(C(=C4[H])[H])[H])[H])([H])[H])([H])[H])[H])[H])[H])([H])[H])[H])[H]', 232.125200512, 4.334000000000003, 0, 0, 1, 4, 0.0], ['C1(C(C(C(C2(C(=O)C(C3(C4(C(C(C(C(C([H])([H])[H])(C(O[H])(C(C(C([H])([H])[H])(C(C([H])([H])[H])(C([H])([H])[H])[H])[H])(O[H])[H])[H])[H])(C4(C(C(C3(C21C([H])([H])[H])[H])([H])[H])([H])[H])C([H])([H])[H])[H])([H])[H])([H])[H])[H])[H])([H])[H])[H])([H])[H])(O[H])[H])(O[H])[H])([H])[H]', 464.3501746359999, 3.8060000000000036, 5, 4, 5, 4, 97.99000000000001], ['C1(C2(C(C3(C(C1([H])[H])(C4(C(C(C3([H])[H])([H])[H])(C5(C(C(C4([H])[H])([H])[H])(C(C(C5([H])[H])([H])[H])(C6=C(C(OC6([H])[H])=O)[H])[H])C([H])([H])[H])O[H])[H])[H])C(O2)(OC([H])([H])[H])[H])[H])([H])[H])[H])(O[H])[H]', 418.2355388079999, 2.5656000000000017, 6, 2, 2, 7, 85.22000000000001], ['C1(=C(C(=C(C(=C1Cl)[H])[H])[H])Cl)N2S(C=3C(C(C(C(C3C2(OO[H])[H])([H])[H])([H])[H])([H])[H])([H])[H])(=O)=O', 348.994234256, 3.7870000000000026, 4, 1, 2, 3, 66.84], ['C1(=C(C(=C(C(=C1[H])[H])[H])[H])[H])N2S(C=3C(C(C(C(C3C2(O[H])[H])([H])[H])([H])[H])([H])[H])([H])[H])(=O)=O', 265.07726434, 1.9829000000000003, 3, 1, 1, 3, 57.61], ['C=1(C(=C(C(=C(C1Cl)[H])[H])[H])Cl)N2S(C=3C(C(C(C(C3C2=O)([H])[H])([H])[H])([H])[H])([H])[H])(=O)=O', 330.98366957200005, 3.4979000000000013, 3, 0, 1, 3, 54.45], ['C=1(C(C(OC(=O)C(C([H])([H])[H])=C([H])[H])(C2(C(C3(C1C(C(=C3C([H])([H])[H])[H])=O)[H])(OC(C2=C([H])[H])=O)[H])[H])[H])([H])[H])C([H])([H])[H]', 328.13107374, 2.4375, 5, 0, 2, 3, 69.67], ['C1(O[H])(C(C(C([H])([H])[H])=C(C2(C(C(C(O2)=O)=C([H])[H])(C(OC(=O)C(C([H])([H])[H])=C([H])[H])(C(C(C([H])([H])[H])=C1[H])([H])[H])[H])[H])[H])[H])(O[H])[H])[H]', 348.157288488, 1.5902, 6, 2, 2, 2, 93.06], ['O(C1(C(OC(C2=C(C(=C(C(=C2[H])[H])[H])[H])[H])(C#N)[H])(OC(C(O[H])(C1(O[H])[H])[H])(C(O[H])([H])[H])[H])[H])[H])[H]', 295.105587264, -0.9322199999999994, 7, 4, 4, 2, 123.17000000000002], ['C1(C(=C([H])[H])C2(C3(C(C1([H])[H])(C2(C([H])([H])[H])C(C(C(C3(C([H])([H])[H])C([H])([H])[H])([H])[H])([H])[H])([H])[H])[H])[H])[H])(OC(=O)C([H])([H])[H])[H]', 262.193280072, 3.9566000000000034, 2, 0, 1, 4, 26.3], ['C1(=C([H])[H])C(OC(C([H])([H])[H])=O)(C(C2(C3(C(C(C(C3([H])[H])([H])[H])([H])[H])(C1(C2([H])[H])[H])C([H])([H])[H])C([H])([H])[H])C([H])([H])[H])([H])[H])[H]', 262.193280072, 4.100700000000003, 2, 0, 1, 3, 26.3], ['C=1(O[H])C(=C(C=2C(C(C(OC2C1[H])(C=3C(=C4C(=C(C3[H])[H])OC(C(=C4[H])[H])(C([H])([H])[H])C([H])([H])[H])[H])[H])([H])[H])=O)[H])C(C(=C(C([H])([H])[H])C([H])([H])[H])[H])([H])[H]', 390.18310931199994, 5.791600000000005, 4, 1, 3, 4, 55.760000000000005], ['C=1(C2=C(N(C(=C2C(C3(N(C(C(N(C(C(C(C([H])([H])[H])(C([H])([H])[H])[H])(N(C(=O)C(N(C(C(N(C(C(C([H])([H])[H])(N(C(C(C(C(N(C3=O)[H])([H])[H])([H])[H])([H])[H])=O)[H])[H])=O)[H])(C(C([H])([H])[H])(C([H])([H])[H])[H])[H])=O)[H])(C(C=4C(=C(C(=C(C4[H])[H])[H])[H])[H])([H])[H])[H])[H])[H])=O)[H])(C(O[H])([H])[H])[H])=O)[H])[H])([H])[H])[H])[H])C(=C(C1[H])[H])[H])[H]', 774.4064606880002, 0.09610000000000807, 8, 9, 7, 4, 239.71999999999997], ['C1(C(=C(C2=C(C3=C(C(=C2O1)[H])OC(=C(C3=O)C=4C(=C(C(=C(C4O[H])[H])OC([H])([H])[H])[H])[H])[H])OC([H])([H])[H])[H])[H])(C([H])([H])[H])C([H])([H])[H]', 380.1259883599999, 4.3670000000000035, 6, 1, 3, 4, 78.13000000000001], ['O1C=2C(=C(C(=C(C2C3=C1C(=C(C(=C3C([H])([H])[H])[H])O[H])[H])C([H])([H])[H])Cl)OC([H])([H])[H])[H]', 276.055321956, 4.570440000000003, 3, 1, 1, 3, 42.6], ['C1(C(C(O[H])(C2(C(C(OC2(C3(C(C([H])([H])[H])(C(O[H])(C4(OC143)[H])[H])O[H])[H])[H])=O)=C([H])[H])[H])[H])([H])[H])(O[H])C([H])([H])[H]', 312.12090298, -1.5208999999999995, 7, 4, 0, 4, 119.75000000000001], ['C=1(C(=C(C2=C(C=3OC(C(C(C3C(=C2C1OC([H])([H])[H])O[H])=O)(C([H])([H])[H])[H])(C([H])([H])[H])[H])OC([H])([H])[H])[H])OC([H])([H])[H])[H]', 332.12598836, 3.1709000000000014, 6, 1, 3, 3, 74.22], ['C1(C(=C(C([H])([H])[H])C(C(C2(C(C(C([H])([H])[H])(C([H])([H])[H])[H])(C(C(C21C([H])([H])[H])=O)([H])[H])O[H])[H])(OC(C3=C(C(=C(C(=C3[H])OC([H])([H])[H])O[H])[H])[H])=O)[H])([H])[H])[H])(O[H])[H]', 418.1991532999999, 2.6195000000000013, 7, 3, 4, 3, 113.28999999999999], ['C1(C2(C(C(C(C(C([H])([H])[H])(C([H])([H])[H])[H])(C2(C(OC(C3=C(C(=C(C(=C3[H])[H])O[H])[H])[H])=O)(C(C(C1=O)(C([H])([H])[H])O[H])([H])[H])[H])[H])O[H])([H])[H])([H])[H])C([H])([H])[H])([H])[H]', 390.20423867999995, 2.834900000000001, 6, 3, 3, 3, 104.06], ['C=1(C(=O)[H])C2=C(C(=C(C(=C2OC1C=3C(=C(C(=C(C3OC([H])([H])[H])O[H])OC([H])([H])[H])[H])[H])[H])OC([H])([H])[H])[H])O[H]', 344.0896028519999, 3.349300000000002, 7, 2, 5, 3, 98.36000000000001], ['C1(C(C(C([H])([H])[H])(C2(C3(C(C(C2(C1([H])[H])OC3=C(C([H])([H])[H])C([H])([H])[H])([H])[H])([H])[H])[H])C([H])([H])[H])[H])([H])[H])([H])[H]', 220.182715388, 4.285600000000004, 1, 0, 0, 3, 9.23], ['C=1(C(=C(C(=C(C1[H])[H])[H])[H])[H])C(=O)OC(C(C(=C2C(=C(C(O2)=O)[H])[H])[H])=O)([H])[H]', 258.05282342000004, 1.4094, 5, 0, 4, 2, 69.67], ['C1(C(C(C([H])([H])[H])(C2(C(C(C3(C(C4(C(C3(C(C(C4(C([H])([H])[H])O[H])([H])[H])([H])[H])C2(C([H])([H])[H])C1([H])[H])([H])[H])[H])([H])[H])[H])([H])[H])([H])[H])[H])C([H])([H])[H])(O[H])[H])(O[H])[H]', 322.25079494799996, 3.1118000000000015, 3, 3, 0, 4, 60.69], ['C1(O[H])(C(C(C2(C(C(C3(C(C(C(=C4C3(C([H])([H])[H])C(C(C5(C4(C(C(C(C5([H])[H])([H])[H])(C([H])([H])[H])[H])(C([H])([H])[H])O[H])[H])C(O[H])=O)([H])[H])([H])[H])[H])([H])[H])(C2(C1([H])[H])C([H])([H])[H])[H])C([H])([H])[H])([H])[H])([H])[H])[H])(C([H])([H])[H])C([H])([H])[H])=O)[H]', 486.33452457199985, 5.383400000000007, 4, 3, 1, 5, 94.82999999999998], ['C1(=C(C(=C2C(=C(C(OC2=C1[H])([H])[H])C=3C(=C(C(=C(C3[H])[H])O[H])[H])OC([H])([H])[H])[H])[H])C(C(=C([H])[H])[H])(C([H])([H])[H])C([H])([H])[H])O[H]', 338.15180918399994, 4.5030000000000046, 4, 2, 4, 3, 58.92], ['C1(C(C(C2(C(C(C3=C(C2(C1([H])[H])C([H])([H])[H])C(C(C4(C3=C(C5(C4(C6(C(O5)(C(OC6(O[H])[H])(C(C(C([H])([H])[H])(C([H])([H])[H])[H])(C(=O)C([H])([H])[H])O[H])[H])[H])[H])[H])[H])[H])C([H])([H])[H])([H])[H])([H])[H])([H])[H])([H])[H])[H])([H])[H])(O[H])[H])([H])[H]', 486.2981390639999, 3.6773000000000042, 6, 3, 3, 6, 96.22000000000001], ['C1(C(C(C2(C(C(C=3C(=C(C(=C(C3C2(C1([H])[H])C([H])([H])[H])O[H])OC([H])([H])[H])C(C([H])([H])[H])(C([H])([H])[H])[H])O[H])=O)([H])[H])[H])(C([H])([H])[H])C([H])([H])[H])(O[H])[H])([H])[H]', 362.20932406, 3.871000000000003, 5, 3, 2, 3, 86.99], ['C1(=C(C(C(=C(C([H])([H])[H])C([H])([H])[H])[H])([H])[H])C(=O)C(=C(C1=O)O[H])C(C(=C(C(C(C(=C(C([H])([H])[H])C([H])([H])[H])[H])([H])[H])([H])[H])C([H])([H])[H])[H])([H])[H])O[H]', 344.198759376, 5.201500000000005, 4, 2, 7, 1, 74.60000000000001], ['C(C1(C(C(C2(C(C1(C3=C(O2)C(=O)C(=C(C3=O)C(C(=C(C([H])([H])[H])C([H])([H])[H])[H])([H])[H])OC(=O)C(C([H])([H])[H])(C([H])([H])[H])[H])[H])([H])[H])C([H])([H])[H])([H])[H])([H])[H])[H])(O[H])(C([H])([H])[H])C([H])([H])[H]', 430.235538808, 4.1780000000000035, 6, 1, 5, 3, 89.9], ['C1(OC(C(O[H])(C(C1(O[H])[H])(O[H])[H])[H])(C(O[H])([H])[H])[H])(OC(C(=C(C(OC(C(=C(C=2C(=C(C(=C(C2[H])OC([H])([H])[H])O[H])[H])[H])[H])[H])=O)([H])[H])C#N)[H])([H])[H])[H]', 451.14784599999996, -0.7763199999999997, 11, 5, 9, 2, 178.92999999999998], ['O(C1(OC(C(C(O[H])(C1(O[H])[H])[H])(O[H])[H])(C(O[H])([H])[H])[H])[H])C(C(C(C(C2(C(C3(C4(C(C(C5(C6(C(C(C(C(C6(C(C(C5(C4(C(C3(O2)[H])([H])[H])[H])[H])([H])[H])(OC7(OC(C(O[H])(C(OC8(C(C(C(O[H])(C(O8)(C([H])([H])[H])[H])[H])(O[H])[H])(O[H])[H])[H])(C7(O[H])[H])[H])[H])(C([H])([H])[H])[H])[H])[H])[H])([H])[H])=O)([H])[H])([H])[H])C([H])([H])[H])[H])([H])[H])([H])[H])C([H])([H])[H])[H])(C([H])([H])[H])[H])O[H])([H])[H])([H])[H])(C([H])([H])[H])[H])([H])[H]', 902.487515528, -0.5449999999999833, 18, 10, 11, 8, 283.97999999999996], ['C=1(C(=C2C=3C(C(C([H])([H])[H])(OC(C([H])([H])[H])([H])[H])[H])=C(C(OC([H])([H])[H])=C(C3C(C(C2=C(C1O[H])C([H])([H])[H])([H])[H])([H])[H])C([H])([H])[H])[H])[H])[H]', 326.18819469199997, 4.880740000000005, 3, 1, 4, 3, 38.69], ['C1(C(O[H])(C(C2(C(C(C3(C(C(C(=C4C3(C(C(C5(C4(C(C(C(C5([H])[H])([H])[H])(C([H])([H])[H])[H])(C([H])([H])[H])[H])[H])C(OC([H])([H])[H])=O)([H])[H])([H])[H])C([H])([H])[H])[H])([H])[H])(C2(C1([H])[H])C([H])([H])[H])[H])C([H])([H])[H])([H])[H])([H])[H])[H])(C([H])([H])[H])C([H])([H])[H])[H])([H])[H]', 470.37599545999996, 7.177900000000008, 3, 1, 1, 5, 46.53]]\n"
          ]
        }
      ]
    },
    {
      "cell_type": "code",
      "source": [
        "with open('trabalhoder.csv', 'w', encoding='UTF8', newline='') as f:  #Abre o arquivo \"csv\" que criei\n",
        "    writer = csv.writer(f)\n",
        "    writer.writerow(mol_data)   \n",
        "    writer.writerows(mol_info)\n",
        "\n",
        "    #Escreve no arquivo csv as colunas e os valores "
      ],
      "metadata": {
        "id": "3cS59ZpwsP82"
      },
      "execution_count": 19,
      "outputs": []
    }
  ]
}